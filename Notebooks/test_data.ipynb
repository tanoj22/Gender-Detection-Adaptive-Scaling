{
 "cells": [
  {
   "cell_type": "code",
   "execution_count": 1,
   "id": "9f06c82b-9782-4072-bd4b-b776448d1db0",
   "metadata": {},
   "outputs": [
    {
     "name": "stdout",
     "output_type": "stream",
     "text": [
      "Copied 1000 images to: D:\\test\n"
     ]
    }
   ],
   "source": [
    "import os\n",
    "import random\n",
    "import shutil\n",
    "from pathlib import Path\n",
    "\n",
    "# --------- USER SETTINGS ---------\n",
    "# Source directory containing all UTK images (ensure it is an extracted folder)\n",
    "src_dir = r\"D:\\utkcropped\"\n",
    "\n",
    "# Directory that already contains images to exclude (by filename)\n",
    "exclude_dir = r\"D:\\utk_gender_balanced_6000\"\n",
    "\n",
    "# Output directory where the 1,000 sampled images will be copied\n",
    "out_dir = r\"D:\\test\"\n",
    "\n",
    "# Number of images to sample\n",
    "n_sample = 1000\n",
    "# ---------------------------------\n",
    "\n",
    "def list_images(root):\n",
    "    # Adjust extensions as needed\n",
    "    exts = {\".jpg\", \".jpeg\", \".png\", \".bmp\", \".gif\", \".webp\"}\n",
    "    imgs = []\n",
    "    for dirpath, _, filenames in os.walk(root):\n",
    "        for fn in filenames:\n",
    "            if Path(fn).suffix.lower() in exts:\n",
    "                imgs.append(os.path.join(dirpath, fn))\n",
    "    return imgs\n",
    "\n",
    "def main():\n",
    "    # Validate source and exclude directories\n",
    "    if not os.path.isdir(src_dir):\n",
    "        raise FileNotFoundError(f\"Source directory not found: {src_dir}\\n\"\n",
    "                                \"If you have a .zip file, extract it first and point src_dir to the extracted folder.\")\n",
    "\n",
    "    if not os.path.isdir(exclude_dir):\n",
    "        print(f\"Warning: Exclude directory not found: {exclude_dir}\\nProceeding with no exclusions.\")\n",
    "        exclude_basenames = set()\n",
    "    else:\n",
    "        exclude_paths = list_images(exclude_dir)\n",
    "        exclude_basenames = {os.path.basename(p) for p in exclude_paths}\n",
    "\n",
    "    # Gather source images\n",
    "    src_paths = list_images(src_dir)\n",
    "\n",
    "    # Filter out images present in exclude_dir by filename\n",
    "    remaining = [p for p in src_paths if os.path.basename(p) not in exclude_basenames]\n",
    "\n",
    "    # Sample\n",
    "    if len(remaining) == 0:\n",
    "        print(\"No images available after exclusion.\")\n",
    "        return\n",
    "\n",
    "    k = min(n_sample, len(remaining))\n",
    "    sampled = random.sample(remaining, k)\n",
    "\n",
    "    # Prepare output directory\n",
    "    os.makedirs(out_dir, exist_ok=True)\n",
    "\n",
    "    # Copy sampled images (preserve unique names; if collisions, add numeric suffix)\n",
    "    used_names = set()\n",
    "    for src_path in sampled:\n",
    "        base = os.path.basename(src_path)\n",
    "        name, ext = os.path.splitext(base)\n",
    "\n",
    "        candidate = base\n",
    "        counter = 1\n",
    "        while candidate in used_names or os.path.exists(os.path.join(out_dir, candidate)):\n",
    "            candidate = f\"{name}_{counter}{ext}\"\n",
    "            counter += 1\n",
    "\n",
    "        shutil.copy2(src_path, os.path.join(out_dir, candidate))\n",
    "        used_names.add(candidate)\n",
    "\n",
    "    print(f\"Copied {k} images to: {out_dir}\")\n",
    "\n",
    "if __name__ == \"__main__\":\n",
    "    main()"
   ]
  },
  {
   "cell_type": "code",
   "execution_count": null,
   "id": "9ef3b64e-862e-46e1-882d-4bc80e6259da",
   "metadata": {},
   "outputs": [],
   "source": []
  }
 ],
 "metadata": {
  "kernelspec": {
   "display_name": "Python 3 (ipykernel)",
   "language": "python",
   "name": "python3"
  },
  "language_info": {
   "codemirror_mode": {
    "name": "ipython",
    "version": 3
   },
   "file_extension": ".py",
   "mimetype": "text/x-python",
   "name": "python",
   "nbconvert_exporter": "python",
   "pygments_lexer": "ipython3",
   "version": "3.12.4"
  }
 },
 "nbformat": 4,
 "nbformat_minor": 5
}
